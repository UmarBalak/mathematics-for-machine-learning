{
 "cells": [
  {
   "cell_type": "markdown",
   "id": "f1683602",
   "metadata": {},
   "source": [
    "# Numpy arrays"
   ]
  },
  {
   "cell_type": "code",
   "execution_count": 2,
   "id": "5b729c16",
   "metadata": {},
   "outputs": [],
   "source": [
    "import numpy as np"
   ]
  },
  {
   "cell_type": "markdown",
   "id": "5f6f6fea",
   "metadata": {},
   "source": [
    "The main data structure is np.ndarray, short for n-dimensional array.\n",
    "\n",
    "Just take a mental note that np.ndarray is the class, and np.array is the function."
   ]
  },
  {
   "cell_type": "code",
   "execution_count": 5,
   "id": "3a626ba0",
   "metadata": {},
   "outputs": [
    {
     "data": {
      "text/plain": [
       "array([ 1. , 10.5, -4.9, 54. ])"
      ]
     },
     "execution_count": 5,
     "metadata": {},
     "output_type": "execute_result"
    }
   ],
   "source": [
    "X = np.array([1, 10.5, -4.9, 54])  # creating a NumPy array from a Python list\n",
    "X"
   ]
  },
  {
   "cell_type": "code",
   "execution_count": null,
   "id": "6743cefe",
   "metadata": {},
   "outputs": [
    {
     "data": {
      "text/plain": [
       "array([1., 1., 1., 1., 1., 1., 1.])"
      ]
     },
     "execution_count": 4,
     "metadata": {},
     "output_type": "execute_result"
    }
   ],
   "source": [
    "np.ones(shape=7) # initializing a NumPy array from scratch using ones"
   ]
  },
  {
   "cell_type": "code",
   "execution_count": 7,
   "id": "94245859",
   "metadata": {},
   "outputs": [
    {
     "data": {
      "text/plain": [
       "array([0., 0., 0., 0., 0.])"
      ]
     },
     "execution_count": 7,
     "metadata": {},
     "output_type": "execute_result"
    }
   ],
   "source": [
    "np.zeros(shape=5) # initializing a NumPy array from scratch using zeros"
   ]
  },
  {
   "cell_type": "markdown",
   "id": "31a80dfe",
   "metadata": {},
   "source": [
    "We can even initialize NumPy arrays using random numbers"
   ]
  },
  {
   "cell_type": "code",
   "execution_count": 8,
   "id": "b48334ff",
   "metadata": {},
   "outputs": [
    {
     "data": {
      "text/plain": [
       "array([0.83846158, 0.27795777, 0.94666403, 0.4122031 , 0.33578458,\n",
       "       0.52882447, 0.70109735, 0.66654747, 0.26186274, 0.30837049])"
      ]
     },
     "execution_count": 8,
     "metadata": {},
     "output_type": "execute_result"
    }
   ],
   "source": [
    "np.random.rand(10)"
   ]
  },
  {
   "cell_type": "markdown",
   "id": "e9e30e84",
   "metadata": {},
   "source": [
    "Most importantly, when we have a given array we can initialize another one with the same dimensions using the np.zeros_like, np.ones_like, and np.empty_like functions."
   ]
  },
  {
   "cell_type": "code",
   "execution_count": 9,
   "id": "7a72b56b",
   "metadata": {},
   "outputs": [
    {
     "data": {
      "text/plain": [
       "array([0., 0., 0., 0.])"
      ]
     },
     "execution_count": 9,
     "metadata": {},
     "output_type": "execute_result"
    }
   ],
   "source": [
    "np.zeros_like(X)"
   ]
  },
  {
   "cell_type": "markdown",
   "id": "9c80f3b0",
   "metadata": {},
   "source": [
    "Just like Python lists, NumPy arrays support item assignments and slicing."
   ]
  },
  {
   "cell_type": "code",
   "execution_count": 10,
   "id": "6c7f6b4b",
   "metadata": {},
   "outputs": [
    {
     "data": {
      "text/plain": [
       "array([1545.215,   10.5  ,   -4.9  ,   54.   ])"
      ]
     },
     "execution_count": 10,
     "metadata": {},
     "output_type": "execute_result"
    }
   ],
   "source": [
    "X[0]= 1545.215 \n",
    "X"
   ]
  },
  {
   "cell_type": "code",
   "execution_count": 11,
   "id": "16265888",
   "metadata": {},
   "outputs": [
    {
     "data": {
      "text/plain": [
       "array([10.5, -4.9, 54. ])"
      ]
     },
     "execution_count": 11,
     "metadata": {},
     "output_type": "execute_result"
    }
   ],
   "source": [
    "X[1:4]"
   ]
  },
  {
   "cell_type": "markdown",
   "id": "3843c455",
   "metadata": {},
   "source": [
    "However, as expected, you can only store asingle data type with in each ndarray. When trying to assign a string as the first element, we get an error message."
   ]
  },
  {
   "cell_type": "code",
   "execution_count": 12,
   "id": "ac2570c5",
   "metadata": {},
   "outputs": [
    {
     "ename": "ValueError",
     "evalue": "could not convert string to float: 'str'",
     "output_type": "error",
     "traceback": [
      "\u001b[31m---------------------------------------------------------------------------\u001b[39m",
      "\u001b[31mValueError\u001b[39m                                Traceback (most recent call last)",
      "\u001b[36mCell\u001b[39m\u001b[36m \u001b[39m\u001b[32mIn[12]\u001b[39m\u001b[32m, line 1\u001b[39m\n\u001b[32m----> \u001b[39m\u001b[32m1\u001b[39m \u001b[43mX\u001b[49m\u001b[43m[\u001b[49m\u001b[32;43m0\u001b[39;49m\u001b[43m]\u001b[49m= \u001b[33m\"\u001b[39m\u001b[33mstr\u001b[39m\u001b[33m\"\u001b[39m\n",
      "\u001b[31mValueError\u001b[39m: could not convert string to float: 'str'"
     ]
    }
   ],
   "source": [
    "X[0]= \"str\""
   ]
  },
  {
   "cell_type": "markdown",
   "id": "68fd0977",
   "metadata": {},
   "source": [
    "Every ndarray has a data type attribute that can be accessed at ndarray.dtype"
   ]
  },
  {
   "cell_type": "code",
   "execution_count": 13,
   "id": "bad9bfd7",
   "metadata": {},
   "outputs": [
    {
     "data": {
      "text/plain": [
       "dtype('float64')"
      ]
     },
     "execution_count": 13,
     "metadata": {},
     "output_type": "execute_result"
    }
   ],
   "source": [
    "X.dtype"
   ]
  },
  {
   "cell_type": "markdown",
   "id": "6f438e26",
   "metadata": {},
   "source": [
    "If a conversionn can be made between the value to be assigned  and the data type, it is automatically performed, making teh item assignment successful."
   ]
  },
  {
   "cell_type": "code",
   "execution_count": 14,
   "id": "e6b9de43",
   "metadata": {},
   "outputs": [
    {
     "name": "stdout",
     "output_type": "stream",
     "text": [
      "23 <class 'int'>\n"
     ]
    },
    {
     "data": {
      "text/plain": [
       "array([23. , 10.5, -4.9, 54. ])"
      ]
     },
     "execution_count": 14,
     "metadata": {},
     "output_type": "execute_result"
    }
   ],
   "source": [
    "val = 23\n",
    "print(val, type(val))\n",
    "\n",
    "X[0] = val\n",
    "X"
   ]
  },
  {
   "cell_type": "markdown",
   "id": "f69fe782",
   "metadata": {},
   "source": [
    "NumPy arrays are iterable, just like other container types in Python."
   ]
  },
  {
   "cell_type": "code",
   "execution_count": 15,
   "id": "1e749bc0",
   "metadata": {},
   "outputs": [
    {
     "name": "stdout",
     "output_type": "stream",
     "text": [
      "23.0\n",
      "10.5\n",
      "-4.9\n",
      "54.0\n"
     ]
    }
   ],
   "source": [
    "for x in X:\n",
    "    print(x)"
   ]
  },
  {
   "cell_type": "markdown",
   "id": "c3aee6bf",
   "metadata": {},
   "source": [
    "Are these suitable to represent vectors? YES. We'll see why!"
   ]
  },
  {
   "cell_type": "markdown",
   "id": "52eec23f",
   "metadata": {},
   "source": [
    "# NumPy arrays as vectors"
   ]
  },
  {
   "cell_type": "code",
   "execution_count": null,
   "id": "0ef53db4",
   "metadata": {},
   "outputs": [],
   "source": []
  },
  {
   "cell_type": "code",
   "execution_count": null,
   "id": "2a16ce58",
   "metadata": {},
   "outputs": [],
   "source": []
  }
 ],
 "metadata": {
  "kernelspec": {
   "display_name": ".venv",
   "language": "python",
   "name": "python3"
  },
  "language_info": {
   "codemirror_mode": {
    "name": "ipython",
    "version": 3
   },
   "file_extension": ".py",
   "mimetype": "text/x-python",
   "name": "python",
   "nbconvert_exporter": "python",
   "pygments_lexer": "ipython3",
   "version": "3.11.5"
  }
 },
 "nbformat": 4,
 "nbformat_minor": 5
}
